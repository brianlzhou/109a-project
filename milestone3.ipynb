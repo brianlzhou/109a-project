{
 "cells": [
  {
   "cell_type": "markdown",
   "metadata": {},
   "source": [
    "# Data Preprocessing"
   ]
  },
  {
   "cell_type": "markdown",
   "id": "8793ba22",
   "metadata": {},
   "source": [
    "## Michigan Inflation Expectation\n",
    "https://fred.stlouisfed.org/series/MICH\n",
    "\n",
    "## US CPI Rate\n",
    "https://fred.stlouisfed.org/series/CPALTT01USM657N"
   ]
  },
  {
   "cell_type": "code",
   "execution_count": null,
   "id": "49070884-b10c-4307-b39c-9331dc00a486",
   "metadata": {},
   "outputs": [],
   "source": [
    "import matplotlib.pyplot as plt\n",
    "import pandas as pd\n",
    "from sklearn.linear_model import LinearRegression\n",
    "from sklearn.model_selection import train_test_split\n",
    "from sklearn.metrics import mean_squared_error, r2_score\n",
    "\n"
   ]
  },
  {
   "cell_type": "code",
   "execution_count": 154,
   "id": "bde4c8fe-bd13-49cd-ac4a-b506358faac3",
   "metadata": {},
   "outputs": [],
   "source": [
    "PATH_FFR_PRE_2008 = 'data/FFR_pre_2008.csv'\n",
    "df_pre_2008 = pd.read_csv(PATH_FFR_PRE_2008, low_memory=False)\n",
    "\n",
    "PATH_FFR_POST_2008 = 'data/FFR_post_2008.csv'\n",
    "df_post_2008 = pd.read_csv(PATH_FFR_POST_2008, low_memory=False)\n",
    "\n",
    "PATH_UNEMPLOYMENT = 'data/UNRATE.csv'\n",
    "df_unemployment = pd.read_csv(PATH_UNEMPLOYMENT, low_memory=False)\n",
    "df_unemployment['DATE'] = pd.to_datetime(df_unemployment['DATE'])\n",
    "\n",
    "PATH_CPI = 'data/US Consumer Prices Inflation.csv'\n",
    "df_cpi = pd.read_csv(PATH_CPI, low_memory=False)\n",
    "df_cpi['DATE'] = pd.to_datetime(df_cpi['DATE'])\n",
    "\n",
    "PATH_EXPECTED_CPI = 'data/Michigan Inflation Expectation.csv'\n",
    "df_expected_cpi = pd.read_csv(PATH_EXPECTED_CPI, low_memory=False)\n",
    "df_expected_cpi['DATE'] = pd.to_datetime(df_expected_cpi['DATE'])\n"
   ]
  },
  {
   "cell_type": "code",
   "execution_count": 155,
   "id": "594f0cf3",
   "metadata": {},
   "outputs": [],
   "source": [
    "print(\"Pre-2008 FFR data\")\n",
    "print(df_pre_2008.head(5))\n",
    "\n",
    "print(\"Post-2008 FFR data\")\n",
    "print(df_post_2008.head(5))\n",
    "\n",
    "print(\"Unemployment data\")\n",
    "print(df_unemployment.head(5))\n",
    "\n",
    "print(\"CPI data\")\n",
    "print(df_cpi.head(5))\n",
    "\n",
    "print(\"Expected CPI data\")\n",
    "print(df_expected_cpi.head(5))"
   ]
  },
  {
   "cell_type": "code",
   "execution_count": 156,
   "id": "f6ceab39-477c-45e8-81c5-5188d8d7c7cf",
   "metadata": {},
   "outputs": [],
   "source": [
    "df_pre_2008.columns = ['date', 'ffr']\n",
    "df_dec_2008 = pd.DataFrame({'date':['2008-12-01'], 'ffr':[.250000]})\n",
    "df_post_2008.columns = ['date', 'ffr']\n",
    "\n",
    "df_unemployment.columns = ['date', 'unemployment']\n",
    "df = pd.concat([df_pre_2008, df_dec_2008, df_post_2008], ignore_index=True)\n",
    "df['date'] = pd.to_datetime(df['date'])\n",
    "df.isna().sum()"
   ]
  },
  {
   "cell_type": "code",
   "execution_count": 159,
   "id": "b6dc1c38",
   "metadata": {},
   "outputs": [],
   "source": [
    "df = pd.merge(df, df_unemployment, on='date', how='inner')"
   ]
  },
  {
   "cell_type": "code",
   "execution_count": 160,
   "id": "6a2983dc",
   "metadata": {},
   "outputs": [],
   "source": [
    "df"
   ]
  },
  {
   "cell_type": "code",
   "execution_count": 126,
   "id": "cbc5e3a3-eb13-437a-9efb-46d209932525",
   "metadata": {},
   "outputs": [],
   "source": [
    "df.describe()"
   ]
  },
  {
   "cell_type": "code",
   "execution_count": 127,
   "id": "8e297733-bdd0-4964-a2cc-7beeafd4bfee",
   "metadata": {},
   "outputs": [],
   "source": [
    "plt.figure(figsize=(6, 4))\n",
    "plt.plot(df.date, df.ffr)\n",
    "plt.title('Federal Funds Rate Over Time')\n",
    "plt.xlabel('Time')\n",
    "plt.ylabel('Federal Funds Rate (%)')\n",
    "plt.grid()\n",
    "plt.show()"
   ]
  },
  {
   "cell_type": "code",
   "execution_count": 128,
   "id": "67dadc0f-ac95-4dc4-a684-c30dfb84327f",
   "metadata": {},
   "outputs": [],
   "source": [
    "date = pd.to_datetime('1994-01-01')\n",
    "month = pd.DateOffset(months=1)\n",
    "while date < pd.to_datetime('2024-10-01'):\n",
    "    if date not in df['date'].values:\n",
    "        print('missing: '+str(date))\n",
    "    date += month"
   ]
  },
  {
   "cell_type": "code",
   "execution_count": 172,
   "id": "c0707c16",
   "metadata": {},
   "outputs": [],
   "source": [
    "df['ffr_1m_change'] = df['ffr'] - df['ffr'].shift(1)  # 1-month change\n",
    "# df['ffr_3m_change'] = df['ffr'] - df['ffr'].shift(3)  # 3-month change\n",
    "# df['ffr_6m_change'] = df['ffr'] - df['ffr'].shift(6)  # 6-month change\n",
    "# df['ffr_12m_change'] = df['ffr'] - df['ffr'].shift(12)  # 12-month change\n",
    "# df['ffr_24m_change'] = df['ffr'] - df['ffr'].shift(24)  # 24-month change\n",
    "\n",
    "# df= pd.merge(df, df_unemployment, left_on='date', right_on='date', how='outer')\n",
    "df= pd.merge(df, df_cpi, left_on='date', right_on='DATE', how='outer')\n",
    "df= pd.merge(df, df_expected_cpi, left_on='date', right_on='DATE', how='outer')\n"
   ]
  },
  {
   "cell_type": "code",
   "execution_count": 173,
   "id": "3ea1da80",
   "metadata": {},
   "outputs": [],
   "source": [
    "df"
   ]
  },
  {
   "cell_type": "code",
   "execution_count": 168,
   "id": "992762f4",
   "metadata": {},
   "outputs": [],
   "source": [
    "df = df.dropna()\n",
    "\n",
    "X = df[['unemployment', 'ffr']]\n",
    "y = df['ffr_1m_change']\n",
    "\n",
    "X_train, X_test, y_train, y_test = train_test_split(X, y, test_size=0.2, random_state=42)\n",
    "\n",
    "model = LinearRegression()\n",
    "model.fit(X_train, y_train)\n",
    "\n",
    "y_pred = model.predict(X_test)\n",
    "mse = mean_squared_error(y_test, y_pred)\n",
    "r2 = r2_score(y_test, y_pred)\n",
    "\n",
    "print(\"Coefficients (Unemployment, FFR):\", model.coef_)\n",
    "print(\"Intercept:\", model.intercept_)\n"
   ]
  },
  {
   "cell_type": "code",
   "execution_count": 170,
   "id": "bcb229b8",
   "metadata": {},
   "outputs": [],
   "source": [
    "df['predicted_ffr_change'] = model.predict(X)\n",
    "\n",
    "plt.figure(figsize=(6, 4))\n",
    "plt.plot(df.date, df.ffr_1m_change)\n",
    "plt.plot(df.date, df.predicted_ffr_change)\n",
    "plt.title('Federal Funds Rate Over Time')\n",
    "plt.xlabel('Time')\n",
    "plt.ylabel('Federal Funds Rate (%)')\n",
    "plt.grid()\n",
    "plt.show()"
   ]
  }
 ],
 "metadata": {
  "kernelspec": {
   "display_name": "comp209",
   "language": "python",
   "name": "python3"
  },
  "language_info": {
   "codemirror_mode": {
    "name": "ipython",
    "version": 3
   },
   "file_extension": ".py",
   "mimetype": "text/x-python",
   "name": "python",
   "nbconvert_exporter": "python",
   "pygments_lexer": "ipython3",
   "version": "3.12.5"
  }
 },
 "nbformat": 4,
 "nbformat_minor": 5
}
